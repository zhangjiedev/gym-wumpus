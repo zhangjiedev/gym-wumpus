{
 "cells": [
  {
   "cell_type": "code",
   "execution_count": 1,
   "metadata": {},
   "outputs": [
    {
     "name": "stderr",
     "output_type": "stream",
     "text": [
      "Using TensorFlow backend.\n",
      "/usr/local/anaconda3/lib/python3.7/site-packages/tensorflow/python/framework/dtypes.py:523: FutureWarning: Passing (type, 1) or '1type' as a synonym of type is deprecated; in a future version of numpy, it will be understood as (type, (1,)) / '(1,)type'.\n",
      "  _np_qint8 = np.dtype([(\"qint8\", np.int8, 1)])\n",
      "/usr/local/anaconda3/lib/python3.7/site-packages/tensorflow/python/framework/dtypes.py:524: FutureWarning: Passing (type, 1) or '1type' as a synonym of type is deprecated; in a future version of numpy, it will be understood as (type, (1,)) / '(1,)type'.\n",
      "  _np_quint8 = np.dtype([(\"quint8\", np.uint8, 1)])\n",
      "/usr/local/anaconda3/lib/python3.7/site-packages/tensorflow/python/framework/dtypes.py:525: FutureWarning: Passing (type, 1) or '1type' as a synonym of type is deprecated; in a future version of numpy, it will be understood as (type, (1,)) / '(1,)type'.\n",
      "  _np_qint16 = np.dtype([(\"qint16\", np.int16, 1)])\n",
      "/usr/local/anaconda3/lib/python3.7/site-packages/tensorflow/python/framework/dtypes.py:526: FutureWarning: Passing (type, 1) or '1type' as a synonym of type is deprecated; in a future version of numpy, it will be understood as (type, (1,)) / '(1,)type'.\n",
      "  _np_quint16 = np.dtype([(\"quint16\", np.uint16, 1)])\n",
      "/usr/local/anaconda3/lib/python3.7/site-packages/tensorflow/python/framework/dtypes.py:527: FutureWarning: Passing (type, 1) or '1type' as a synonym of type is deprecated; in a future version of numpy, it will be understood as (type, (1,)) / '(1,)type'.\n",
      "  _np_qint32 = np.dtype([(\"qint32\", np.int32, 1)])\n",
      "/usr/local/anaconda3/lib/python3.7/site-packages/tensorflow/python/framework/dtypes.py:532: FutureWarning: Passing (type, 1) or '1type' as a synonym of type is deprecated; in a future version of numpy, it will be understood as (type, (1,)) / '(1,)type'.\n",
      "  np_resource = np.dtype([(\"resource\", np.ubyte, 1)])\n",
      "/usr/local/anaconda3/lib/python3.7/site-packages/tensorboard/compat/tensorflow_stub/dtypes.py:541: FutureWarning: Passing (type, 1) or '1type' as a synonym of type is deprecated; in a future version of numpy, it will be understood as (type, (1,)) / '(1,)type'.\n",
      "  _np_qint8 = np.dtype([(\"qint8\", np.int8, 1)])\n",
      "/usr/local/anaconda3/lib/python3.7/site-packages/tensorboard/compat/tensorflow_stub/dtypes.py:542: FutureWarning: Passing (type, 1) or '1type' as a synonym of type is deprecated; in a future version of numpy, it will be understood as (type, (1,)) / '(1,)type'.\n",
      "  _np_quint8 = np.dtype([(\"quint8\", np.uint8, 1)])\n",
      "/usr/local/anaconda3/lib/python3.7/site-packages/tensorboard/compat/tensorflow_stub/dtypes.py:543: FutureWarning: Passing (type, 1) or '1type' as a synonym of type is deprecated; in a future version of numpy, it will be understood as (type, (1,)) / '(1,)type'.\n",
      "  _np_qint16 = np.dtype([(\"qint16\", np.int16, 1)])\n",
      "/usr/local/anaconda3/lib/python3.7/site-packages/tensorboard/compat/tensorflow_stub/dtypes.py:544: FutureWarning: Passing (type, 1) or '1type' as a synonym of type is deprecated; in a future version of numpy, it will be understood as (type, (1,)) / '(1,)type'.\n",
      "  _np_quint16 = np.dtype([(\"quint16\", np.uint16, 1)])\n",
      "/usr/local/anaconda3/lib/python3.7/site-packages/tensorboard/compat/tensorflow_stub/dtypes.py:545: FutureWarning: Passing (type, 1) or '1type' as a synonym of type is deprecated; in a future version of numpy, it will be understood as (type, (1,)) / '(1,)type'.\n",
      "  _np_qint32 = np.dtype([(\"qint32\", np.int32, 1)])\n",
      "/usr/local/anaconda3/lib/python3.7/site-packages/tensorboard/compat/tensorflow_stub/dtypes.py:550: FutureWarning: Passing (type, 1) or '1type' as a synonym of type is deprecated; in a future version of numpy, it will be understood as (type, (1,)) / '(1,)type'.\n",
      "  np_resource = np.dtype([(\"resource\", np.ubyte, 1)])\n"
     ]
    }
   ],
   "source": [
    "import gym\n",
    "import gym_wumpus\n",
    "import random\n",
    "import numpy as np\n",
    "from keras.layers import Dense, Flatten\n",
    "from keras.models import Sequential\n",
    "from keras.optimizers import Adam"
   ]
  },
  {
   "cell_type": "code",
   "execution_count": 2,
   "metadata": {},
   "outputs": [
    {
     "name": "stdout",
     "output_type": "stream",
     "text": [
      "States 7\n",
      "Actions 6\n"
     ]
    }
   ],
   "source": [
    "env = gym.make('wumpus-extra-v0')\n",
    "\n",
    "states = env.observation_space.shape[0]\n",
    "print('States', states)\n",
    "\n",
    "actions = env.action_space.n\n",
    "print('Actions', actions)"
   ]
  },
  {
   "cell_type": "code",
   "execution_count": 3,
   "metadata": {},
   "outputs": [
    {
     "name": "stdout",
     "output_type": "stream",
     "text": [
      "episode 1 score -1042\n",
      "episode 2 score -1042\n",
      "episode 3 score -1042\n",
      "episode 4 score -1042\n",
      "episode 5 score -1042\n",
      "episode 6 score -1042\n",
      "episode 7 score -1042\n",
      "episode 8 score -1042\n",
      "episode 9 score -1042\n",
      "episode 10 score -1042\n"
     ]
    }
   ],
   "source": [
    "episodes = 10\n",
    "\n",
    "for episode in range(1,episodes+1):\n",
    "    # At each begining reset the game \n",
    "    state = env.reset()\n",
    "    # set done to False\n",
    "    done = False\n",
    "    # set score to 0\n",
    "    score = 0\n",
    "    # while the game is not finished\n",
    "    while not done:\n",
    "        # visualize each step\n",
    "        #env.render()\n",
    "        # choose a random action\n",
    "        action = random.choice([0,1])\n",
    "        # execute the action\n",
    "        n_state, reward, done, info = env.step(action)\n",
    "        # keep track of rewards\n",
    "        score+=reward\n",
    "    print('episode {} score {}'.format(episode, score))"
   ]
  },
  {
   "cell_type": "code",
   "execution_count": 4,
   "metadata": {},
   "outputs": [],
   "source": [
    "def agent(states, actions):\n",
    "    model = Sequential()\n",
    "    model.add(Flatten(input_shape = (1, states)))\n",
    "    model.add(Dense(24, activation='tanh'))\n",
    "    model.add(Dense(24, activation='tanh'))\n",
    "    model.add(Dense(24, activation='tanh'))\n",
    "    model.add(Dense(24, activation='tanh'))\n",
    "    model.add(Dense(24, activation='tanh'))\n",
    "    model.add(Dense(24, activation='tanh'))\n",
    "    model.add(Dense(24, activation='tanh'))\n",
    "    model.add(Dense(24, activation='tanh'))\n",
    "    model.add(Dense(actions, activation='linear'))\n",
    "    return model\n",
    "  \n",
    "model = agent(env.observation_space.shape[0], env.action_space.n)"
   ]
  },
  {
   "cell_type": "code",
   "execution_count": 5,
   "metadata": {},
   "outputs": [],
   "source": [
    "from rl.agents import SARSAAgent\n",
    "from rl.policy import EpsGreedyQPolicy\n",
    "from rl.agents import DQNAgent\n",
    "from rl.memory import SequentialMemory\n",
    "\n",
    "policy = EpsGreedyQPolicy()"
   ]
  },
  {
   "cell_type": "code",
   "execution_count": 6,
   "metadata": {},
   "outputs": [],
   "source": [
    "from rl.agents import DQNAgent\n",
    "from rl.memory import SequentialMemory\n",
    "memory = SequentialMemory(limit=50000, window_length=1)\n",
    "dqn = DQNAgent(model=model, nb_actions=env.action_space.n, memory=memory, policy=policy)"
   ]
  },
  {
   "cell_type": "code",
   "execution_count": 7,
   "metadata": {},
   "outputs": [
    {
     "name": "stdout",
     "output_type": "stream",
     "text": [
      "Training for 80000 steps ...\n",
      "Interval 1 (0 steps performed)\n",
      "10000/10000 [==============================] - 59s 6ms/step - reward: 3.8718\n",
      "6786 episodes - episode_reward: 5.706 [-1050.000, 999.000] - loss: 5596.009 - mse: 2576.657 - mean_q: 12.705\n",
      "\n",
      "Interval 2 (10000 steps performed)\n",
      "10000/10000 [==============================] - 51s 5ms/step - reward: 22.6808\n",
      "4093 episodes - episode_reward: 55.413 [-1051.000, 999.000] - loss: 10025.320 - mse: 5178.963 - mean_q: 52.472\n",
      "\n",
      "Interval 3 (20000 steps performed)\n",
      "10000/10000 [==============================] - 52s 5ms/step - reward: 27.1955\n",
      "4370 episodes - episode_reward: 62.234 [-1042.000, 999.000] - loss: 12267.180 - mse: 6707.385 - mean_q: 60.829\n",
      "\n",
      "Interval 4 (30000 steps performed)\n",
      "10000/10000 [==============================] - 52s 5ms/step - reward: 26.4641\n",
      "4297 episodes - episode_reward: 61.586 [-1042.000, 999.000] - loss: 13535.440 - mse: 8442.478 - mean_q: 71.121\n",
      "\n",
      "Interval 5 (40000 steps performed)\n",
      "10000/10000 [==============================] - 52s 5ms/step - reward: 24.1883\n",
      "4075 episodes - episode_reward: 59.357 [-1042.000, 999.000] - loss: 15268.860 - mse: 10325.328 - mean_q: 74.998\n",
      "\n",
      "Interval 6 (50000 steps performed)\n",
      "10000/10000 [==============================] - 53s 5ms/step - reward: 25.9580\n",
      "4059 episodes - episode_reward: 63.952 [-1083.000, 999.000] - loss: 15308.745 - mse: 11662.222 - mean_q: 73.465\n",
      "\n",
      "Interval 7 (60000 steps performed)\n",
      "10000/10000 [==============================] - 50s 5ms/step - reward: 23.2063\n",
      "3645 episodes - episode_reward: 63.666 [-1046.000, 999.000] - loss: 15559.600 - mse: 12822.678 - mean_q: 75.743\n",
      "\n",
      "Interval 8 (70000 steps performed)\n",
      "10000/10000 [==============================] - 52s 5ms/step - reward: 28.4675\n",
      "done, took 420.329 seconds\n"
     ]
    },
    {
     "data": {
      "text/plain": [
       "<keras.callbacks.callbacks.History at 0x628ae4550>"
      ]
     },
     "execution_count": 7,
     "metadata": {},
     "output_type": "execute_result"
    }
   ],
   "source": [
    "dqn.compile('adam', metrics = ['mse'])\n",
    "dqn.fit(env, nb_steps=80000, visualize=False, verbose=1)"
   ]
  },
  {
   "cell_type": "code",
   "execution_count": 8,
   "metadata": {},
   "outputs": [],
   "source": [
    "#dqn.save_weights('dqn_{}_weights.h5f'.format('wumpus-extra-v0'), overwrite=True)"
   ]
  },
  {
   "cell_type": "code",
   "execution_count": 9,
   "metadata": {},
   "outputs": [],
   "source": [
    "#dqn.compile(Adam(lr=1e-3), metrics=['mae'])\n",
    "#dqn.load_weights('dqn_wumpus-extra-v0_weights.h5f')"
   ]
  },
  {
   "cell_type": "code",
   "execution_count": 12,
   "metadata": {
    "scrolled": true
   },
   "outputs": [
    {
     "name": "stdout",
     "output_type": "stream",
     "text": [
      "Testing for 100 episodes ...\n",
      "Episode 1: reward: 993.000, steps: 7\n",
      "Episode 2: reward: -1.000, steps: 1\n",
      "Episode 3: reward: -5.000, steps: 3\n",
      "Episode 4: reward: -1.000, steps: 1\n",
      "Episode 5: reward: -3.000, steps: 2\n",
      "Episode 6: reward: -3.000, steps: 2\n",
      "Episode 7: reward: -3.000, steps: 2\n",
      "Episode 8: reward: -3.000, steps: 2\n",
      "Episode 9: reward: -5.000, steps: 3\n",
      "Episode 10: reward: 997.000, steps: 3\n",
      "Episode 11: reward: -1.000, steps: 1\n",
      "Episode 12: reward: -1.000, steps: 1\n",
      "Episode 13: reward: -1.000, steps: 1\n",
      "Episode 14: reward: -3.000, steps: 2\n",
      "Episode 15: reward: -1.000, steps: 1\n",
      "Episode 16: reward: -13.000, steps: 7\n",
      "Episode 17: reward: -5.000, steps: 3\n",
      "Episode 18: reward: -5.000, steps: 3\n",
      "Episode 19: reward: -9.000, steps: 5\n",
      "Episode 20: reward: -1.000, steps: 1\n",
      "Episode 21: reward: -3.000, steps: 2\n",
      "Episode 22: reward: -3.000, steps: 2\n",
      "Episode 23: reward: -5.000, steps: 3\n",
      "Episode 24: reward: -1.000, steps: 1\n",
      "Episode 25: reward: -1.000, steps: 1\n",
      "Episode 26: reward: -9.000, steps: 5\n",
      "Episode 27: reward: -1.000, steps: 1\n",
      "Episode 28: reward: -1.000, steps: 1\n",
      "Episode 29: reward: -1.000, steps: 1\n",
      "Episode 30: reward: -5.000, steps: 3\n",
      "Episode 31: reward: -1.000, steps: 1\n",
      "Episode 32: reward: -1.000, steps: 1\n",
      "Episode 33: reward: -5.000, steps: 3\n",
      "Episode 34: reward: -3.000, steps: 2\n",
      "Episode 35: reward: -1.000, steps: 1\n",
      "Episode 36: reward: 999.000, steps: 1\n",
      "Episode 37: reward: -15.000, steps: 8\n",
      "Episode 38: reward: -13.000, steps: 7\n",
      "Episode 39: reward: -3.000, steps: 2\n",
      "Episode 40: reward: -5.000, steps: 3\n",
      "Episode 41: reward: -1.000, steps: 1\n",
      "Episode 42: reward: -1.000, steps: 1\n",
      "Episode 43: reward: -1.000, steps: 1\n",
      "Episode 44: reward: -1.000, steps: 1\n",
      "Episode 45: reward: -1.000, steps: 1\n",
      "Episode 46: reward: -1.000, steps: 1\n",
      "Episode 47: reward: 998.000, steps: 2\n",
      "Episode 48: reward: 994.000, steps: 6\n",
      "Episode 49: reward: -3.000, steps: 2\n",
      "Episode 50: reward: -1.000, steps: 1\n",
      "Episode 51: reward: -3.000, steps: 2\n",
      "Episode 52: reward: -1.000, steps: 1\n",
      "Episode 53: reward: -3.000, steps: 2\n",
      "Episode 54: reward: -1.000, steps: 1\n",
      "Episode 55: reward: -9.000, steps: 5\n",
      "Episode 56: reward: -3.000, steps: 2\n",
      "Episode 57: reward: -5.000, steps: 3\n",
      "Episode 58: reward: 999.000, steps: 1\n",
      "Episode 59: reward: -5.000, steps: 3\n",
      "Episode 60: reward: -1.000, steps: 1\n",
      "Episode 61: reward: -1.000, steps: 1\n",
      "Episode 62: reward: -3.000, steps: 2\n",
      "Episode 63: reward: -1.000, steps: 1\n",
      "Episode 64: reward: -5.000, steps: 3\n",
      "Episode 65: reward: -3.000, steps: 2\n",
      "Episode 66: reward: -1.000, steps: 1\n",
      "Episode 67: reward: -3.000, steps: 2\n",
      "Episode 68: reward: -1.000, steps: 1\n",
      "Episode 69: reward: -13.000, steps: 7\n",
      "Episode 70: reward: -3.000, steps: 2\n",
      "Episode 71: reward: -1.000, steps: 1\n",
      "Episode 72: reward: -1.000, steps: 1\n",
      "Episode 73: reward: -3.000, steps: 2\n",
      "Episode 74: reward: -1.000, steps: 1\n",
      "Episode 75: reward: -3.000, steps: 2\n",
      "Episode 76: reward: -5.000, steps: 3\n",
      "Episode 77: reward: -1.000, steps: 1\n",
      "Episode 78: reward: -1.000, steps: 1\n",
      "Episode 79: reward: -1.000, steps: 1\n",
      "Episode 80: reward: -3.000, steps: 2\n",
      "Episode 81: reward: -1.000, steps: 1\n",
      "Episode 82: reward: -3.000, steps: 2\n",
      "Episode 83: reward: -5.000, steps: 3\n",
      "Episode 84: reward: -1.000, steps: 1\n",
      "Episode 85: reward: 993.000, steps: 7\n",
      "Episode 86: reward: -3.000, steps: 2\n",
      "Episode 87: reward: -1.000, steps: 1\n",
      "Episode 88: reward: -1.000, steps: 1\n",
      "Episode 89: reward: -3.000, steps: 2\n",
      "Episode 90: reward: -19.000, steps: 10\n",
      "Episode 91: reward: -1.000, steps: 1\n",
      "Episode 92: reward: 998.000, steps: 2\n",
      "Episode 93: reward: -1.000, steps: 1\n",
      "Episode 94: reward: -1.000, steps: 1\n",
      "Episode 95: reward: -1.000, steps: 1\n",
      "Episode 96: reward: -3.000, steps: 2\n",
      "Episode 97: reward: -3.000, steps: 2\n",
      "Episode 98: reward: -5.000, steps: 3\n",
      "Episode 99: reward: -13.000, steps: 7\n",
      "Episode 100: reward: -1.000, steps: 1\n",
      "Average score over 100 test games:76.69\n"
     ]
    }
   ],
   "source": [
    "scores = dqn.test(env, nb_episodes = 100, visualize= False)\n",
    "print('Average score over 100 test games:{}'.format(np.mean(scores.history['episode_reward'])))"
   ]
  },
  {
   "cell_type": "code",
   "execution_count": 13,
   "metadata": {},
   "outputs": [],
   "source": [
    "dqn.save_weights('dqn_weights_1.h5f', overwrite=True)"
   ]
  },
  {
   "cell_type": "code",
   "execution_count": null,
   "metadata": {},
   "outputs": [],
   "source": []
  }
 ],
 "metadata": {
  "kernelspec": {
   "display_name": "Python 3",
   "language": "python",
   "name": "python3"
  },
  "language_info": {
   "codemirror_mode": {
    "name": "ipython",
    "version": 3
   },
   "file_extension": ".py",
   "mimetype": "text/x-python",
   "name": "python",
   "nbconvert_exporter": "python",
   "pygments_lexer": "ipython3",
   "version": "3.7.4"
  }
 },
 "nbformat": 4,
 "nbformat_minor": 2
}
