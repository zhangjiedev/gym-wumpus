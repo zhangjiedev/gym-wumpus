{
 "cells": [
  {
   "cell_type": "code",
   "execution_count": 1,
   "metadata": {},
   "outputs": [
    {
     "name": "stderr",
     "output_type": "stream",
     "text": [
      "Using TensorFlow backend.\n",
      "/usr/local/anaconda3/lib/python3.7/site-packages/tensorflow/python/framework/dtypes.py:523: FutureWarning: Passing (type, 1) or '1type' as a synonym of type is deprecated; in a future version of numpy, it will be understood as (type, (1,)) / '(1,)type'.\n",
      "  _np_qint8 = np.dtype([(\"qint8\", np.int8, 1)])\n",
      "/usr/local/anaconda3/lib/python3.7/site-packages/tensorflow/python/framework/dtypes.py:524: FutureWarning: Passing (type, 1) or '1type' as a synonym of type is deprecated; in a future version of numpy, it will be understood as (type, (1,)) / '(1,)type'.\n",
      "  _np_quint8 = np.dtype([(\"quint8\", np.uint8, 1)])\n",
      "/usr/local/anaconda3/lib/python3.7/site-packages/tensorflow/python/framework/dtypes.py:525: FutureWarning: Passing (type, 1) or '1type' as a synonym of type is deprecated; in a future version of numpy, it will be understood as (type, (1,)) / '(1,)type'.\n",
      "  _np_qint16 = np.dtype([(\"qint16\", np.int16, 1)])\n",
      "/usr/local/anaconda3/lib/python3.7/site-packages/tensorflow/python/framework/dtypes.py:526: FutureWarning: Passing (type, 1) or '1type' as a synonym of type is deprecated; in a future version of numpy, it will be understood as (type, (1,)) / '(1,)type'.\n",
      "  _np_quint16 = np.dtype([(\"quint16\", np.uint16, 1)])\n",
      "/usr/local/anaconda3/lib/python3.7/site-packages/tensorflow/python/framework/dtypes.py:527: FutureWarning: Passing (type, 1) or '1type' as a synonym of type is deprecated; in a future version of numpy, it will be understood as (type, (1,)) / '(1,)type'.\n",
      "  _np_qint32 = np.dtype([(\"qint32\", np.int32, 1)])\n",
      "/usr/local/anaconda3/lib/python3.7/site-packages/tensorflow/python/framework/dtypes.py:532: FutureWarning: Passing (type, 1) or '1type' as a synonym of type is deprecated; in a future version of numpy, it will be understood as (type, (1,)) / '(1,)type'.\n",
      "  np_resource = np.dtype([(\"resource\", np.ubyte, 1)])\n",
      "/usr/local/anaconda3/lib/python3.7/site-packages/tensorboard/compat/tensorflow_stub/dtypes.py:541: FutureWarning: Passing (type, 1) or '1type' as a synonym of type is deprecated; in a future version of numpy, it will be understood as (type, (1,)) / '(1,)type'.\n",
      "  _np_qint8 = np.dtype([(\"qint8\", np.int8, 1)])\n",
      "/usr/local/anaconda3/lib/python3.7/site-packages/tensorboard/compat/tensorflow_stub/dtypes.py:542: FutureWarning: Passing (type, 1) or '1type' as a synonym of type is deprecated; in a future version of numpy, it will be understood as (type, (1,)) / '(1,)type'.\n",
      "  _np_quint8 = np.dtype([(\"quint8\", np.uint8, 1)])\n",
      "/usr/local/anaconda3/lib/python3.7/site-packages/tensorboard/compat/tensorflow_stub/dtypes.py:543: FutureWarning: Passing (type, 1) or '1type' as a synonym of type is deprecated; in a future version of numpy, it will be understood as (type, (1,)) / '(1,)type'.\n",
      "  _np_qint16 = np.dtype([(\"qint16\", np.int16, 1)])\n",
      "/usr/local/anaconda3/lib/python3.7/site-packages/tensorboard/compat/tensorflow_stub/dtypes.py:544: FutureWarning: Passing (type, 1) or '1type' as a synonym of type is deprecated; in a future version of numpy, it will be understood as (type, (1,)) / '(1,)type'.\n",
      "  _np_quint16 = np.dtype([(\"quint16\", np.uint16, 1)])\n",
      "/usr/local/anaconda3/lib/python3.7/site-packages/tensorboard/compat/tensorflow_stub/dtypes.py:545: FutureWarning: Passing (type, 1) or '1type' as a synonym of type is deprecated; in a future version of numpy, it will be understood as (type, (1,)) / '(1,)type'.\n",
      "  _np_qint32 = np.dtype([(\"qint32\", np.int32, 1)])\n",
      "/usr/local/anaconda3/lib/python3.7/site-packages/tensorboard/compat/tensorflow_stub/dtypes.py:550: FutureWarning: Passing (type, 1) or '1type' as a synonym of type is deprecated; in a future version of numpy, it will be understood as (type, (1,)) / '(1,)type'.\n",
      "  np_resource = np.dtype([(\"resource\", np.ubyte, 1)])\n"
     ]
    }
   ],
   "source": [
    "import gym\n",
    "import gym_wumpus\n",
    "import random\n",
    "import numpy as np\n",
    "from keras.layers import Dense, Flatten\n",
    "from keras.models import Sequential\n",
    "from keras.optimizers import Adam"
   ]
  },
  {
   "cell_type": "code",
   "execution_count": 2,
   "metadata": {},
   "outputs": [
    {
     "name": "stdout",
     "output_type": "stream",
     "text": [
      "States 5\n",
      "Actions 6\n"
     ]
    }
   ],
   "source": [
    "env = gym.make('wumpus-v0')\n",
    "\n",
    "states = env.observation_space.shape[0]\n",
    "print('States', states)\n",
    "\n",
    "actions = env.action_space.n\n",
    "print('Actions', actions)"
   ]
  },
  {
   "cell_type": "code",
   "execution_count": 3,
   "metadata": {},
   "outputs": [
    {
     "name": "stdout",
     "output_type": "stream",
     "text": [
      "episode 1 score -1001\n",
      "episode 2 score -1001\n",
      "episode 3 score -1001\n",
      "episode 4 score -1001\n",
      "episode 5 score -1001\n",
      "episode 6 score -1001\n",
      "episode 7 score -1001\n",
      "episode 8 score -1001\n",
      "episode 9 score -1001\n",
      "episode 10 score -1001\n"
     ]
    }
   ],
   "source": [
    "episodes = 10\n",
    "\n",
    "for episode in range(1,episodes+1):\n",
    "    # At each begining reset the game \n",
    "    state = env.reset()\n",
    "    # set done to False\n",
    "    done = False\n",
    "    # set score to 0\n",
    "    score = 0\n",
    "    # while the game is not finished\n",
    "    while not done:\n",
    "        # visualize each step\n",
    "        #env.render()\n",
    "        # choose a random action\n",
    "        action = random.choice([0,1])\n",
    "        # execute the action\n",
    "        n_state, reward, done, info = env.step(action)\n",
    "        # keep track of rewards\n",
    "        score+=reward\n",
    "    print('episode {} score {}'.format(episode, score))"
   ]
  },
  {
   "cell_type": "code",
   "execution_count": 4,
   "metadata": {},
   "outputs": [],
   "source": [
    "def agent(states, actions):\n",
    "    model = Sequential()\n",
    "    model.add(Flatten(input_shape = (1, states)))\n",
    "    model.add(Dense(24, activation='relu'))\n",
    "    model.add(Dense(24, activation='relu'))\n",
    "    model.add(Dense(24, activation='relu'))\n",
    "    model.add(Dense(actions, activation='linear'))\n",
    "    return model\n",
    "  \n",
    "model = agent(env.observation_space.shape[0], env.action_space.n)"
   ]
  },
  {
   "cell_type": "code",
   "execution_count": 5,
   "metadata": {},
   "outputs": [],
   "source": [
    "from rl.agents import SARSAAgent\n",
    "from rl.policy import EpsGreedyQPolicy\n",
    "\n",
    "policy = EpsGreedyQPolicy()"
   ]
  },
  {
   "cell_type": "code",
   "execution_count": 6,
   "metadata": {},
   "outputs": [],
   "source": [
    "sarsa = SARSAAgent(model = model, policy = policy, nb_actions = env.action_space.n)"
   ]
  },
  {
   "cell_type": "code",
   "execution_count": 7,
   "metadata": {},
   "outputs": [],
   "source": [
    "sarsa.compile('adam', metrics = ['mse'])"
   ]
  },
  {
   "cell_type": "code",
   "execution_count": 8,
   "metadata": {},
   "outputs": [
    {
     "name": "stdout",
     "output_type": "stream",
     "text": [
      "Training for 50000 steps ...\n",
      "Interval 1 (0 steps performed)\n",
      "10000/10000 [==============================] - 22s 2ms/step - reward: -4.5720\n",
      "195 episodes - episode_reward: -234.005 [-1962.000, -1.000] - loss: 196.649 - mse: 14033.146 - mean_q: -83.906\n",
      "\n",
      "Interval 2 (10000 steps performed)\n",
      "10000/10000 [==============================] - 21s 2ms/step - reward: -2.8480\n",
      "220 episodes - episode_reward: -129.195 [-1809.000, 901.000] - loss: 367.811 - mse: 23521.389 - mean_q: -111.131\n",
      "\n",
      "Interval 3 (20000 steps performed)\n",
      "10000/10000 [==============================] - 21s 2ms/step - reward: -3.1450\n",
      "122 episodes - episode_reward: -258.943 [-1854.000, 566.000] - loss: 561.384 - mse: 27321.933 - mean_q: -109.147\n",
      "\n",
      "Interval 4 (30000 steps performed)\n",
      "10000/10000 [==============================] - 21s 2ms/step - reward: -3.4550\n",
      "314 episodes - episode_reward: -107.455 [-1982.000, -1.000] - loss: 623.226 - mse: 26995.713 - mean_q: -105.407\n",
      "\n",
      "Interval 5 (40000 steps performed)\n",
      "10000/10000 [==============================] - 21s 2ms/step - reward: -3.3630\n",
      "done, took 105.366 seconds\n"
     ]
    },
    {
     "data": {
      "text/plain": [
       "<keras.callbacks.callbacks.History at 0x62bd7e950>"
      ]
     },
     "execution_count": 8,
     "metadata": {},
     "output_type": "execute_result"
    }
   ],
   "source": [
    "sarsa.fit(env, nb_steps = 50000, visualize = False, verbose = 1)"
   ]
  },
  {
   "cell_type": "code",
   "execution_count": null,
   "metadata": {},
   "outputs": [
    {
     "name": "stdout",
     "output_type": "stream",
     "text": [
      "Testing for 100 episodes ...\n",
      "Episode 1: reward: -1001.000, steps: 1001\n",
      "Episode 2: reward: -1001.000, steps: 1001\n",
      "Episode 3: reward: -1001.000, steps: 1001\n",
      "Episode 4: reward: -1001.000, steps: 1001\n",
      "Episode 5: reward: -1001.000, steps: 1001\n",
      "Episode 6: reward: -1001.000, steps: 1001\n",
      "Episode 7: reward: -1001.000, steps: 1001\n",
      "Episode 8: reward: -1001.000, steps: 1001\n",
      "Episode 9: reward: -1001.000, steps: 1001\n",
      "Episode 10: reward: -1001.000, steps: 1001\n",
      "Episode 11: reward: -1001.000, steps: 1001\n",
      "Episode 12: reward: -1001.000, steps: 1001\n",
      "Episode 13: reward: -1001.000, steps: 1001\n",
      "Episode 14: reward: -1001.000, steps: 1001\n",
      "Episode 15: reward: -1001.000, steps: 1001\n",
      "Episode 16: reward: -1001.000, steps: 1001\n",
      "Episode 17: reward: -1001.000, steps: 1001\n",
      "Episode 18: reward: -1001.000, steps: 1001\n",
      "Episode 19: reward: -1001.000, steps: 1001\n",
      "Episode 20: reward: -1001.000, steps: 1001\n",
      "Episode 21: reward: -1001.000, steps: 1001\n",
      "Episode 22: reward: -1001.000, steps: 1001\n",
      "Episode 23: reward: -1001.000, steps: 1001\n",
      "Episode 24: reward: -1001.000, steps: 1001\n",
      "Episode 25: reward: -1001.000, steps: 1001\n",
      "Episode 26: reward: -1001.000, steps: 1001\n",
      "Episode 27: reward: -1001.000, steps: 1001\n",
      "Episode 28: reward: -1001.000, steps: 1001\n",
      "Episode 29: reward: -1001.000, steps: 1001\n",
      "Episode 30: reward: -1001.000, steps: 1001\n",
      "Episode 31: reward: -1001.000, steps: 1001\n",
      "Episode 32: reward: -1001.000, steps: 1001\n",
      "Episode 33: reward: -1001.000, steps: 1001\n",
      "Episode 34: reward: -1001.000, steps: 1001\n",
      "Episode 35: reward: -1001.000, steps: 1001\n",
      "Episode 36: reward: -1001.000, steps: 1001\n",
      "Episode 37: reward: -1001.000, steps: 1001\n",
      "Episode 38: reward: -1001.000, steps: 1001\n",
      "Episode 39: reward: -1001.000, steps: 1001\n",
      "Episode 40: reward: -1001.000, steps: 1001\n",
      "Episode 41: reward: -1001.000, steps: 1001\n",
      "Episode 42: reward: -1001.000, steps: 1001\n",
      "Episode 43: reward: -1001.000, steps: 1001\n",
      "Episode 44: reward: -1001.000, steps: 1001\n",
      "Episode 45: reward: -1001.000, steps: 1001\n",
      "Episode 46: reward: -1001.000, steps: 1001\n",
      "Episode 47: reward: -1001.000, steps: 1001\n",
      "Episode 48: reward: -1001.000, steps: 1001\n",
      "Episode 49: reward: -1001.000, steps: 1001\n",
      "Episode 50: reward: -1001.000, steps: 1001\n",
      "Episode 51: reward: -1001.000, steps: 1001\n",
      "Episode 52: reward: -1001.000, steps: 1001\n",
      "Episode 53: reward: -1001.000, steps: 1001\n",
      "Episode 54: reward: -1001.000, steps: 1001\n",
      "Episode 55: reward: -1001.000, steps: 1001\n",
      "Episode 56: reward: -1001.000, steps: 1001\n",
      "Episode 57: reward: -1001.000, steps: 1001\n",
      "Episode 58: reward: -1001.000, steps: 1001\n",
      "Episode 59: reward: -1001.000, steps: 1001\n",
      "Episode 60: reward: -1001.000, steps: 1001\n",
      "Episode 61: reward: -1001.000, steps: 1001\n",
      "Episode 62: reward: -1001.000, steps: 1001\n",
      "Episode 63: reward: -1001.000, steps: 1001\n",
      "Episode 64: reward: -1001.000, steps: 1001\n",
      "Episode 65: reward: -1001.000, steps: 1001\n",
      "Episode 66: reward: -1001.000, steps: 1001\n",
      "Episode 67: reward: -1001.000, steps: 1001\n",
      "Episode 68: reward: -1001.000, steps: 1001\n",
      "Episode 69: reward: -1001.000, steps: 1001\n",
      "Episode 70: reward: -1001.000, steps: 1001\n",
      "Episode 71: reward: -1001.000, steps: 1001\n",
      "Episode 72: reward: -1001.000, steps: 1001\n",
      "Episode 73: reward: -1001.000, steps: 1001\n",
      "Episode 74: reward: -1001.000, steps: 1001\n",
      "Episode 75: reward: -1001.000, steps: 1001\n",
      "Episode 76: reward: -1001.000, steps: 1001\n",
      "Episode 77: reward: -1001.000, steps: 1001\n",
      "Episode 78: reward: -1001.000, steps: 1001\n",
      "Episode 79: reward: -1001.000, steps: 1001\n",
      "Episode 80: reward: -1001.000, steps: 1001\n",
      "Episode 81: reward: -1001.000, steps: 1001\n",
      "Episode 82: reward: -1001.000, steps: 1001\n",
      "Episode 83: reward: -1001.000, steps: 1001\n",
      "Episode 84: reward: -1001.000, steps: 1001\n"
     ]
    }
   ],
   "source": [
    "scores = sarsa.test(env, nb_episodes = 100, visualize= False)\n",
    "print('Average score over 100 test games:{}'.format(np.mean(scores.history['episode_reward'])))"
   ]
  },
  {
   "cell_type": "code",
   "execution_count": null,
   "metadata": {},
   "outputs": [],
   "source": []
  }
 ],
 "metadata": {
  "kernelspec": {
   "display_name": "Python 3",
   "language": "python",
   "name": "python3"
  },
  "language_info": {
   "codemirror_mode": {
    "name": "ipython",
    "version": 3
   },
   "file_extension": ".py",
   "mimetype": "text/x-python",
   "name": "python",
   "nbconvert_exporter": "python",
   "pygments_lexer": "ipython3",
   "version": "3.7.4"
  }
 },
 "nbformat": 4,
 "nbformat_minor": 2
}
